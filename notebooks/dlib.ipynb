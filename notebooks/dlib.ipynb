{
 "cells": [
  {
   "cell_type": "code",
   "execution_count": 2,
   "metadata": {},
   "outputs": [],
   "source": [
    "import cv2\n",
    "import dlib\n",
    "import os\n",
    "import time\n",
    "\n",
    "def dlib_cnn_detect_faces(source_folder, destination_folder, model_path):\n",
    "    # Ensure the destination folder exists\n",
    "    if not os.path.exists(destination_folder):\n",
    "        os.makedirs(destination_folder)\n",
    "    \n",
    "    # Load the CNN face detector\n",
    "    cnn_detector = dlib.cnn_face_detection_model_v1(model_path)\n",
    "    \n",
    "    # Iterate through all files in the source directory\n",
    "    for filename in os.listdir(source_folder):\n",
    "        if filename.lower().endswith(('.png', '.jpg', '.jpeg')):\n",
    "            file_path = os.path.join(source_folder, filename)\n",
    "            \n",
    "            # Load the image\n",
    "            image = cv2.imread(file_path)\n",
    "            \n",
    "            # Record start time\n",
    "            start = time.time()\n",
    "            \n",
    "            # Perform face detection\n",
    "            detections = cnn_detector(image, 2)\n",
    "            \n",
    "            # Draw bounding boxes for each detected face\n",
    "            for face in detections:\n",
    "                l, t, r, b = face.rect.left(), face.rect.top(), face.rect.right(), face.rect.bottom()\n",
    "                cv2.rectangle(image, (l, t), (r, b), (255, 0, 0), 2)\n",
    "            \n",
    "            # Record end time\n",
    "            end = time.time()\n",
    "            \n",
    "            print(f\"Processed {filename} in {end - start:.2f} seconds.\")\n",
    "            \n",
    "            # Save the processed image to the destination folder\n",
    "            output_path = os.path.join(destination_folder, filename)\n",
    "            cv2.imwrite(output_path, image)\n",
    "    print(\"Processing complete.\")\n"
   ]
  },
  {
   "cell_type": "code",
   "execution_count": 3,
   "metadata": {},
   "outputs": [
    {
     "name": "stdout",
     "output_type": "stream",
     "text": [
      "Processed face_img_481.jpg in 4.28 seconds.\n",
      "Processed face_img_1214.jpg in 2.92 seconds.\n",
      "Processed face_img_3371.jpg in 2.99 seconds.\n",
      "Processed face_img_7117.jpg in 2.89 seconds.\n",
      "Processed face_img_6584.jpg in 2.94 seconds.\n",
      "Processed face_img_2090.jpg in 2.99 seconds.\n",
      "Processed face_img_697.jpg in 2.89 seconds.\n",
      "Processed face_img_7329.jpg in 3.03 seconds.\n",
      "Processed face_img_6779.jpg in 2.92 seconds.\n",
      "Processed face_img_1002.jpg in 2.94 seconds.\n",
      "Processed face_img_6786.jpg in 2.91 seconds.\n",
      "Processed face_img_6976.jpg in 3.95 seconds.\n",
      "Processed image_A0654.jpg in 5.55 seconds.\n",
      "Processed image_A0640.jpg in 2.52 seconds.\n",
      "Processed face_img_2494.jpg in 2.90 seconds.\n",
      "Processed face_img_2480.jpg in 2.76 seconds.\n"
     ]
    },
    {
     "ename": "",
     "evalue": "",
     "output_type": "error",
     "traceback": [
      "\u001b[1;31mThe Kernel crashed while executing code in the current cell or a previous cell. \n",
      "\u001b[1;31mPlease review the code in the cell(s) to identify a possible cause of the failure. \n",
      "\u001b[1;31mClick <a href='https://aka.ms/vscodeJupyterKernelCrash'>here</a> for more info. \n",
      "\u001b[1;31mView Jupyter <a href='command:jupyter.viewOutput'>log</a> for further details."
     ]
    }
   ],
   "source": [
    "source_folder = \"/Users/jocareher/Downloads/train_val_test_split/test/images\"\n",
    "destination_folder = \"/Users/jocareher/Downloads/dlib_predictions\"\n",
    "model_path = \"/Users/jocareher/Library/CloudStorage/OneDrive-Personal/Educación/eLearning/Face_Detection/Weights/mmod_human_face_detector.dat\"\n",
    "dlib_cnn_detect_faces(source_folder=source_folder,\n",
    "                      destination_folder=destination_folder,\n",
    "                      model_path=model_path)"
   ]
  }
 ],
 "metadata": {
  "kernelspec": {
   "display_name": "dlib",
   "language": "python",
   "name": "python3"
  },
  "language_info": {
   "codemirror_mode": {
    "name": "ipython",
    "version": 3
   },
   "file_extension": ".py",
   "mimetype": "text/x-python",
   "name": "python",
   "nbconvert_exporter": "python",
   "pygments_lexer": "ipython3",
   "version": "3.9.18"
  }
 },
 "nbformat": 4,
 "nbformat_minor": 2
}
