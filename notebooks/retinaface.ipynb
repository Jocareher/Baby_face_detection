{
 "cells": [
  {
   "cell_type": "code",
   "execution_count": 1,
   "metadata": {},
   "outputs": [],
   "source": [
    "from typing import List, Tuple, Any\n",
    "import os\n",
    "import cv2\n",
    "from retinaface import RetinaFace"
   ]
  },
  {
   "cell_type": "code",
   "execution_count": 2,
   "metadata": {},
   "outputs": [],
   "source": [
    "def retinaface_detection_and_save_bboxes(dataset_path: str, destination_path: str) -> Tuple[List[Tuple[str, Any, Any]], List[Tuple[str, Any]], List[List[Tuple[int]]]]:\n",
    "    \"\"\"\n",
    "    Detect faces in images from a specified dataset directory using RetinaFace and categorize them into two lists:\n",
    "    - Faces detected with bounding box annotations\n",
    "    - Images with no detected faces\n",
    "    Additionally, save the annotated images with bounding boxes to separate folders within the destination directory.\n",
    "\n",
    "    Args:\n",
    "        - dataset_path (str): The path to the dataset directory containing image files.\n",
    "        - destination_path (str): The path to the destination directory where modified images and annotations will be saved.\n",
    "\n",
    "    Returns:\n",
    "        Tuple[List[Tuple[str, Any, Any]], List[Tuple[str, Any]], List[List[Tuple[int]]]]: \n",
    "        A tuple containing three lists:\n",
    "        - List of tuples with paths to images, images themselves, and corresponding detections.\n",
    "        - List of tuples with filenames and images where no faces were detected.\n",
    "        - List of lists containing tuples of bounding box coordinates for each detected face.\n",
    "    \"\"\"\n",
    "    # Initialize lists to store detected faces, images with no faces, and all detections\n",
    "    faces_detected = []\n",
    "    no_faces = []\n",
    "    all_detections = []\n",
    "\n",
    "    # Define paths for images and annotations in the destination directory\n",
    "    images_destination_path = os.path.join(destination_path, 'images')\n",
    "    annotations_destination_path = os.path.join(destination_path, 'labels')\n",
    "\n",
    "    # Ensure the destination directories exist, create them if not\n",
    "    os.makedirs(images_destination_path, exist_ok=True)\n",
    "    os.makedirs(annotations_destination_path, exist_ok=True)\n",
    "\n",
    "    # List all image files in the dataset directory\n",
    "    paths = sorted([os.path.join(dataset_path, f) for f in os.listdir(dataset_path) if f.lower().endswith(('.png', '.jpg', '.jpeg'))])\n",
    "\n",
    "    # Iterate through each image in the dataset\n",
    "    for path in paths:\n",
    "        image = cv2.imread(path)\n",
    "        if image is None:\n",
    "            continue\n",
    "\n",
    "        # Detect faces in the image using RetinaFace\n",
    "        detections = RetinaFace.detect_faces(image)\n",
    "        base_filename = os.path.basename(path)\n",
    "        destination_image_path = os.path.join(images_destination_path, base_filename)\n",
    "        annotation_file_path = os.path.join(annotations_destination_path, base_filename.replace('.jpg', '.txt').replace('.jpeg', '.txt').replace('.png', '.txt'))\n",
    "\n",
    "        # Process detections\n",
    "        if isinstance(detections, dict) and detections:\n",
    "            # Save bounding box annotations to a text file\n",
    "            with open(annotation_file_path, 'w') as annotation_file:\n",
    "                for key, value in detections.items():\n",
    "                    facial_area = value[\"facial_area\"]\n",
    "                    # Draw bounding box on the image\n",
    "                    cv2.rectangle(image, (facial_area[0], facial_area[1]), (facial_area[2], facial_area[3]), (0, 255, 0), 2)\n",
    "                    # Write annotations in the format: x1, y1, x2, y2\n",
    "                    annotation_file.write(f\"{facial_area[0]} {facial_area[1]} {facial_area[2]} {facial_area[3]}\\n\")\n",
    "\n",
    "            # Save the annotated image\n",
    "            cv2.imwrite(destination_image_path, image)\n",
    "            # Append information to lists\n",
    "            faces_detected.append((path, image, detections))\n",
    "            face_areas = [value[\"facial_area\"] for key, value in detections.items()]\n",
    "            all_detections.append(face_areas)\n",
    "        else:\n",
    "            # Save images with no detected faces\n",
    "            no_faces.append((base_filename, image))\n",
    "            all_detections.append([])\n",
    "\n",
    "    return faces_detected, no_faces, all_detections"
   ]
  },
  {
   "cell_type": "code",
   "execution_count": 4,
   "metadata": {},
   "outputs": [],
   "source": [
    "test_set = \"/Users/jocareher/Downloads/missing\"\n",
    "predictions_path = \"/Users/jocareher/Downloads/missing_predictions\"\n",
    "faces_detected, no_faces, all_detections = detect_face_and_save_bboxes(dataset_path=test_set,\n",
    "                                                       destination_path=predictions_path)"
   ]
  }
 ],
 "metadata": {
  "kernelspec": {
   "display_name": "retinaface",
   "language": "python",
   "name": "python3"
  },
  "language_info": {
   "codemirror_mode": {
    "name": "ipython",
    "version": 3
   },
   "file_extension": ".py",
   "mimetype": "text/x-python",
   "name": "python",
   "nbconvert_exporter": "python",
   "pygments_lexer": "ipython3",
   "version": "3.8.18"
  }
 },
 "nbformat": 4,
 "nbformat_minor": 2
}
